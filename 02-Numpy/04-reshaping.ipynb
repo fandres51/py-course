{
 "cells": [
  {
   "cell_type": "code",
   "execution_count": 2,
   "id": "5d54c1fa",
   "metadata": {},
   "outputs": [],
   "source": [
    "import numpy as np"
   ]
  },
  {
   "cell_type": "code",
   "execution_count": 3,
   "id": "d0c9813b",
   "metadata": {},
   "outputs": [],
   "source": [
    "paises_1 = ['Colombia', 'Venezuela', 'Peru', 'Bolivia']\n",
    "paises_2 = ['Argentina', 'Uruguay', 'Paraguay', 'Chile']"
   ]
  },
  {
   "cell_type": "code",
   "execution_count": 7,
   "id": "2318a43d",
   "metadata": {},
   "outputs": [
    {
     "data": {
      "text/plain": [
       "array([['Colombia', 'Venezuela', 'Peru', 'Bolivia'],\n",
       "       ['Argentina', 'Uruguay', 'Paraguay', 'Chile']], dtype='<U9')"
      ]
     },
     "execution_count": 7,
     "metadata": {},
     "output_type": "execute_result"
    }
   ],
   "source": [
    "paises_2d = np.array([paises_1, paises_2])\n",
    "paises_2d"
   ]
  },
  {
   "cell_type": "code",
   "execution_count": 9,
   "id": "5f7e98fa",
   "metadata": {},
   "outputs": [
    {
     "data": {
      "text/plain": [
       "(2, 4)"
      ]
     },
     "execution_count": 9,
     "metadata": {},
     "output_type": "execute_result"
    }
   ],
   "source": [
    "paises_2d.shape"
   ]
  },
  {
   "cell_type": "code",
   "execution_count": 10,
   "id": "5fc45280",
   "metadata": {},
   "outputs": [
    {
     "data": {
      "text/plain": [
       "array(['Colombia', 'Venezuela', 'Peru', 'Bolivia', 'Argentina', 'Uruguay',\n",
       "       'Paraguay', 'Chile'], dtype='<U9')"
      ]
     },
     "execution_count": 10,
     "metadata": {},
     "output_type": "execute_result"
    }
   ],
   "source": [
    "paises_2d.flatten()"
   ]
  },
  {
   "cell_type": "code",
   "execution_count": 12,
   "id": "51aa4e16",
   "metadata": {},
   "outputs": [
    {
     "data": {
      "text/plain": [
       "array([[['Colombia', 'Venezuela'],\n",
       "        ['Peru', 'Bolivia']],\n",
       "\n",
       "       [['Argentina', 'Uruguay'],\n",
       "        ['Paraguay', 'Chile']]], dtype='<U9')"
      ]
     },
     "execution_count": 12,
     "metadata": {},
     "output_type": "execute_result"
    }
   ],
   "source": [
    "paises_2d.flatten().reshape(2,2,2)"
   ]
  },
  {
   "cell_type": "code",
   "execution_count": 16,
   "id": "2971d314",
   "metadata": {},
   "outputs": [
    {
     "data": {
      "text/plain": [
       "array([['Colombia', 'Venezuela', 'Peru', 'Bolivia'],\n",
       "       ['Argentina', 'Uruguay', 'Paraguay', 'Chile']], dtype='<U9')"
      ]
     },
     "execution_count": 16,
     "metadata": {},
     "output_type": "execute_result"
    }
   ],
   "source": [
    "paises_2d.flatten().reshape(-1,4) # el -1 es lléname como puedas"
   ]
  },
  {
   "cell_type": "code",
   "execution_count": 19,
   "id": "a44d7d8f",
   "metadata": {},
   "outputs": [
    {
     "data": {
      "text/plain": [
       "array([['Colombia', 'Argentina'],\n",
       "       ['Venezuela', 'Uruguay'],\n",
       "       ['Peru', 'Paraguay'],\n",
       "       ['Bolivia', 'Chile']], dtype='<U9')"
      ]
     },
     "execution_count": 19,
     "metadata": {},
     "output_type": "execute_result"
    }
   ],
   "source": [
    "paises_2d.T #transpuesta"
   ]
  },
  {
   "cell_type": "code",
   "execution_count": 31,
   "id": "6a7a3a51",
   "metadata": {},
   "outputs": [
    {
     "data": {
      "text/plain": [
       "[array(['Colombia', 'Venezuela'], dtype='<U9'),\n",
       " array(['Peru', 'Bolivia'], dtype='<U9'),\n",
       " array(['Argentina', 'Uruguay'], dtype='<U9'),\n",
       " array(['Paraguay', 'Chile'], dtype='<U9')]"
      ]
     },
     "execution_count": 31,
     "metadata": {},
     "output_type": "execute_result"
    }
   ],
   "source": [
    "np.split(paises_2d.flatten(), 4)"
   ]
  },
  {
   "cell_type": "code",
   "execution_count": 35,
   "id": "31dc10fe",
   "metadata": {},
   "outputs": [
    {
     "data": {
      "text/plain": [
       "[array(['Colombia', 'Venezuela', 'Peru'], dtype='<U9'),\n",
       " array(['Bolivia', 'Argentina', 'Uruguay', 'Paraguay'], dtype='<U9'),\n",
       " array(['Chile'], dtype='<U9')]"
      ]
     },
     "execution_count": 35,
     "metadata": {},
     "output_type": "execute_result"
    }
   ],
   "source": [
    "np.split(paises_2d.flatten(), [3,7]) # posicion"
   ]
  },
  {
   "cell_type": "code",
   "execution_count": 36,
   "id": "ccb050bb",
   "metadata": {},
   "outputs": [],
   "source": [
    "arr1, arr2, arr3, arr4 = np.split(paises_2d.flatten(), 4)"
   ]
  },
  {
   "cell_type": "code",
   "execution_count": 41,
   "id": "6aab28d0",
   "metadata": {},
   "outputs": [
    {
     "data": {
      "text/plain": [
       "array(['Argentina', 'Uruguay'], dtype='<U9')"
      ]
     },
     "execution_count": 41,
     "metadata": {},
     "output_type": "execute_result"
    }
   ],
   "source": [
    "arr3"
   ]
  },
  {
   "cell_type": "code",
   "execution_count": 55,
   "id": "36f3a943",
   "metadata": {},
   "outputs": [
    {
     "data": {
      "text/plain": [
       "[array([['Colombia', 'Venezuela'],\n",
       "        ['Argentina', 'Uruguay']], dtype='<U9'),\n",
       " array([['Peru', 'Bolivia'],\n",
       "        ['Paraguay', 'Chile']], dtype='<U9')]"
      ]
     },
     "execution_count": 55,
     "metadata": {},
     "output_type": "execute_result"
    }
   ],
   "source": [
    "np.hsplit(paises_2d, 2) #corte en el eje 1"
   ]
  },
  {
   "cell_type": "code",
   "execution_count": 50,
   "id": "2b3ea0d1",
   "metadata": {},
   "outputs": [
    {
     "data": {
      "text/plain": [
       "[array([['Colombia', 'Venezuela', 'Peru', 'Bolivia']], dtype='<U9'),\n",
       " array([['Argentina', 'Uruguay', 'Paraguay', 'Chile']], dtype='<U9')]"
      ]
     },
     "execution_count": 50,
     "metadata": {},
     "output_type": "execute_result"
    }
   ],
   "source": [
    "np.split(paises_2d, 2)"
   ]
  },
  {
   "cell_type": "code",
   "execution_count": 56,
   "id": "b2d8d15a",
   "metadata": {},
   "outputs": [
    {
     "data": {
      "text/plain": [
       "[array([['Colombia', 'Venezuela', 'Peru', 'Bolivia']], dtype='<U9'),\n",
       " array([['Argentina', 'Uruguay', 'Paraguay', 'Chile']], dtype='<U9')]"
      ]
     },
     "execution_count": 56,
     "metadata": {},
     "output_type": "execute_result"
    }
   ],
   "source": [
    "np.vsplit(paises_2d, 2) #igual al split normal en el eje 0"
   ]
  },
  {
   "cell_type": "code",
   "execution_count": null,
   "id": "49b7361d",
   "metadata": {},
   "outputs": [],
   "source": []
  },
  {
   "cell_type": "code",
   "execution_count": null,
   "id": "0d07dd06",
   "metadata": {},
   "outputs": [],
   "source": []
  }
 ],
 "metadata": {
  "kernelspec": {
   "display_name": "Python 3 (ipykernel)",
   "language": "python",
   "name": "python3"
  },
  "language_info": {
   "codemirror_mode": {
    "name": "ipython",
    "version": 3
   },
   "file_extension": ".py",
   "mimetype": "text/x-python",
   "name": "python",
   "nbconvert_exporter": "python",
   "pygments_lexer": "ipython3",
   "version": "3.9.13"
  }
 },
 "nbformat": 4,
 "nbformat_minor": 5
}
