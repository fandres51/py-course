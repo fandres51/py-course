{
 "cells": [
  {
   "cell_type": "code",
   "execution_count": 5,
   "id": "94ab873f",
   "metadata": {},
   "outputs": [
    {
     "name": "stdout",
     "output_type": "stream",
     "text": [
      "Hola Mundo\n",
      "None\n"
     ]
    }
   ],
   "source": [
    "def hola_mundo():\n",
    "    print('Hola Mundo')\n",
    "    \n",
    "print(hola_mundo())"
   ]
  },
  {
   "cell_type": "code",
   "execution_count": 12,
   "id": "3fab5788",
   "metadata": {},
   "outputs": [
    {
     "name": "stdout",
     "output_type": "stream",
     "text": [
      "la suma es 6\n"
     ]
    }
   ],
   "source": [
    "def sumar_dos_numeros(num1, num2):\n",
    "    return num1 + num2\n",
    "\n",
    "total = sumar_dos_numeros(1,5)\n",
    "print(f\"la suma es {total}\")"
   ]
  },
  {
   "cell_type": "code",
   "execution_count": 15,
   "id": "d7a1d90a",
   "metadata": {},
   "outputs": [
    {
     "name": "stdout",
     "output_type": "stream",
     "text": [
      "Universidad: UDLA\n",
      "Universidad: EPN\n"
     ]
    }
   ],
   "source": [
    "def imprimir_uni(uni = 'UDLA'):\n",
    "    print(f'Universidad: {uni}')\n",
    "\n",
    "imprimir_uni()\n",
    "imprimir_uni('EPN')"
   ]
  },
  {
   "cell_type": "code",
   "execution_count": 17,
   "id": "2f0ace19",
   "metadata": {},
   "outputs": [
    {
     "name": "stdout",
     "output_type": "stream",
     "text": [
      "Color: azul\n",
      "Placa: PDF-1289\n",
      "Anio: 1999\n"
     ]
    }
   ],
   "source": [
    "#Regla: Todos los parámetros opcionales (con valor) van después de los requeridos\n",
    "def imprimir_carro(color, placa, anio = '1999'):\n",
    "    print(f'Color: {color}')\n",
    "    print(f'Placa: {placa}')\n",
    "    print(f'Anio: {anio}')\n",
    "    \n",
    "imprimir_carro('azul', 'PDF-1289')\n",
    "    "
   ]
  },
  {
   "cell_type": "code",
   "execution_count": 20,
   "id": "8d1e3a90",
   "metadata": {},
   "outputs": [
    {
     "name": "stdout",
     "output_type": "stream",
     "text": [
      "Color: blanco\n",
      "Placa: FSD-2311\n",
      "Anio: 2103\n",
      "Color: blanco\n",
      "Placa: FSD-2311\n",
      "Anio: 2103\n"
     ]
    }
   ],
   "source": [
    "#Named Parameters\n",
    "imprimir_carro(placa = 'FSD-2311', color = 'blanco', anio ='2103')\n",
    "\n",
    "#Regla: Podemos usar parámetros por posición y LUEGO parámetros nombrados\n",
    "imprimir_carro('blanco', placa = 'FSD-2311', anio ='2103')"
   ]
  },
  {
   "cell_type": "code",
   "execution_count": 40,
   "id": "c205ce14",
   "metadata": {},
   "outputs": [
    {
     "data": {
      "text/plain": [
       "31"
      ]
     },
     "execution_count": 40,
     "metadata": {},
     "output_type": "execute_result"
    }
   ],
   "source": [
    "def sumar_numeros(primer_num, *numeros): #Parámetros infinitos\n",
    "    suma = primer_num\n",
    "    for num in numeros:\n",
    "        suma = suma + num\n",
    "    return suma\n",
    "sumar_numeros(1, 2, 5, 6, 6, 7, 4, 0)"
   ]
  },
  {
   "cell_type": "code",
   "execution_count": 44,
   "id": "6a018ee2",
   "metadata": {},
   "outputs": [
    {
     "name": "stdout",
     "output_type": "stream",
     "text": [
      "{'saludo': 'hola', 'mensaje': 'mundo'}\n",
      "<class 'dict'>\n"
     ]
    }
   ],
   "source": [
    "def establecer_configuracion(**kwargs): #Key word arguments\n",
    "    print(kwargs)                       #Parametros nombrados\n",
    "    print(type(kwargs))\n",
    "establecer_configuracion(saludo = 'hola', mensaje = 'mundo')"
   ]
  },
  {
   "cell_type": "markdown",
   "id": "5558dd8e",
   "metadata": {},
   "source": [
    "# Reglas"
   ]
  },
  {
   "cell_type": "code",
   "execution_count": 1,
   "id": "5b165c16",
   "metadata": {},
   "outputs": [
    {
     "name": "stdout",
     "output_type": "stream",
     "text": [
      ":)\n"
     ]
    }
   ],
   "source": [
    "def ejemplo(\n",
    "    requerido_uno,\n",
    "    requerido_dos,\n",
    "    opcional_uno = 1,\n",
    "    opcional_dos = 2,\n",
    "    *infinitos,\n",
    "    **kwargs\n",
    "):\n",
    "    print(':)')\n",
    "    \n",
    "ejemplo(1,2)"
   ]
  },
  {
   "cell_type": "markdown",
   "id": "7126811b",
   "metadata": {},
   "source": [
    "## Lambda Functions"
   ]
  },
  {
   "cell_type": "code",
   "execution_count": 5,
   "id": "f5a28e76",
   "metadata": {},
   "outputs": [
    {
     "data": {
      "text/plain": [
       "4"
      ]
     },
     "execution_count": 5,
     "metadata": {},
     "output_type": "execute_result"
    }
   ],
   "source": [
    "al_cuadrado = lambda x : x * x\n",
    "al_cuadrado(2)"
   ]
  },
  {
   "cell_type": "code",
   "execution_count": 6,
   "id": "3f8108bd",
   "metadata": {},
   "outputs": [
    {
     "data": {
      "text/plain": [
       "6"
      ]
     },
     "execution_count": 6,
     "metadata": {},
     "output_type": "execute_result"
    }
   ],
   "source": [
    "sumar_dos = lambda x, y : x + y\n",
    "sumar_dos(2,4)"
   ]
  }
 ],
 "metadata": {
  "kernelspec": {
   "display_name": "Python 3 (ipykernel)",
   "language": "python",
   "name": "python3"
  },
  "language_info": {
   "codemirror_mode": {
    "name": "ipython",
    "version": 3
   },
   "file_extension": ".py",
   "mimetype": "text/x-python",
   "name": "python",
   "nbconvert_exporter": "python",
   "pygments_lexer": "ipython3",
   "version": "3.9.13"
  }
 },
 "nbformat": 4,
 "nbformat_minor": 5
}
