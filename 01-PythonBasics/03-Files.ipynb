{
 "cells": [
  {
   "cell_type": "code",
   "execution_count": 16,
   "id": "f6cb4ad0",
   "metadata": {},
   "outputs": [
    {
     "name": "stdout",
     "output_type": "stream",
     "text": [
      "['Buenos dias']\n"
     ]
    }
   ],
   "source": [
    "try:\n",
    "    path = \"./frases.txt\"\n",
    "    archivo_abierto = open(path)\n",
    "    lista_lineas = archivo_abierto.readlines()\n",
    "#     linea_uno = archivo_abierto.readline()\n",
    "    print(lista_lineas)\n",
    "    archivo_abierto.close()\n",
    "#     print(linea_uno)\n",
    "except Exception as Error:\n",
    "    print(\"Error leyendo archivo\")"
   ]
  },
  {
   "cell_type": "code",
   "execution_count": 19,
   "id": "2d19bef4",
   "metadata": {},
   "outputs": [],
   "source": [
    "try:\n",
    "    path = \"./frases.txt\"\n",
    "    archivo_abierto = open(path, 'w')\n",
    "    archivo_abierto.write('Esto es eee')\n",
    "    archivo_abierto.close()\n",
    "except Exception as Error:\n",
    "    print(\"Error leyendo archivo\")"
   ]
  },
  {
   "cell_type": "code",
   "execution_count": 21,
   "id": "0c139b61",
   "metadata": {},
   "outputs": [],
   "source": [
    "try:\n",
    "    path = \"./frases.txt\"\n",
    "    archivo_abierto = open(path, 'a')\n",
    "    archivo_abierto.write('\\nBuenas noches')\n",
    "    archivo_abierto.close()\n",
    "except Exception as Error:\n",
    "    print(\"Error leyendo archivo\")"
   ]
  }
 ],
 "metadata": {
  "kernelspec": {
   "display_name": "Python 3 (ipykernel)",
   "language": "python",
   "name": "python3"
  },
  "language_info": {
   "codemirror_mode": {
    "name": "ipython",
    "version": 3
   },
   "file_extension": ".py",
   "mimetype": "text/x-python",
   "name": "python",
   "nbconvert_exporter": "python",
   "pygments_lexer": "ipython3",
   "version": "3.9.13"
  }
 },
 "nbformat": 4,
 "nbformat_minor": 5
}
