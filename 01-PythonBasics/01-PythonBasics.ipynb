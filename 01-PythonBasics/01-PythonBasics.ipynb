{
 "cells": [
  {
   "cell_type": "markdown",
   "id": "3e6941d6",
   "metadata": {},
   "source": [
    "# Título 1\n",
    "## Título2\n",
    "---\n",
    "```javascript\n",
    "console.log(\"Hola Mundo\");\n",
    "```\n",
    "\n",
    "```python\n",
    "print \"Hola Mundo\"\n",
    "```"
   ]
  },
  {
   "cell_type": "code",
   "execution_count": 16,
   "id": "9bcb931c",
   "metadata": {},
   "outputs": [
    {
     "name": "stdout",
     "output_type": "stream",
     "text": [
      "Hola Mundo\n"
     ]
    }
   ],
   "source": [
    "print(\"Hola Mundo\")"
   ]
  },
  {
   "cell_type": "code",
   "execution_count": 23,
   "id": "be8fbb26",
   "metadata": {},
   "outputs": [
    {
     "name": "stdout",
     "output_type": "stream",
     "text": [
      "<class 'int'>\n",
      "<class 'float'>\n",
      "<class 'str'>\n",
      "<class 'str'>\n",
      "<class 'bool'>\n",
      "<class 'bool'>\n",
      "<class 'NoneType'>\n",
      "<class 'float'>\n"
     ]
    }
   ],
   "source": [
    "# Variables Primitivas\n",
    "entero = 3\n",
    "decimal = 2.3\n",
    "string = \"Hola\"\n",
    "string2 = 'Hola'\n",
    "booleano = False\n",
    "booleano2 = True\n",
    "nulo = None\n",
    "\n",
    "print(type(entero)) #<class 'int'>\n",
    "print(type(decimal)) #<class 'float'>\n",
    "print(type(string)) #<class 'str'>\n",
    "print(type(string2)) #<class 'str'>\n",
    "print(type(booleano)) #<class 'bool'>\n",
    "print(type(booleano2)) #<class 'bool'>\n",
    "print(type(nulo)) #<class 'NoneType'>\n",
    "print(type(float('nan'))) #<class 'float'>\n",
    "\n",
    "#las palabras son separadas por guiónes bajos: hola_mundo\n",
    "\n",
    "tuplas = (1, 2, 3) # Arreglos que NO se pueden modificar\n",
    "listas = [1, 3, 4] # Arreglos que SI se pueden modificar\n",
    "diccionarios = {\n",
    "    \"nombre\": \"Fabio\",\n",
    "    \"edad\": 20\n",
    "} # Parecidos a los JSON\n"
   ]
  },
  {
   "cell_type": "code",
   "execution_count": 1,
   "id": "780c0b29",
   "metadata": {},
   "outputs": [
    {
     "name": "stdout",
     "output_type": "stream",
     "text": [
      "\n",
      "dskfklnaf\n",
      "dflknaf dklsf ldsknflsd fdlnfds fk dfjds fkjld fjd fjk sd\n",
      " dj fjdsk fjds flj djf jds fdjl fjds fjsld f\n",
      "  fjds fjd fdj fj dfl dsf dsjf \n",
      "\n",
      "<class 'str'>\n"
     ]
    }
   ],
   "source": [
    "# Cadena de texto\n",
    "cadena_de_texto = \"\"\"\n",
    "dskfklnaf\n",
    "dflknaf dklsf ldsknflsd fdlnfds fk dfjds fkjld fjd fjk sd\n",
    " dj fjdsk fjds flj djf jds fdjl fjds fjsld f\n",
    "  fjds fjd fdj fj dfl dsf dsjf \n",
    "\"\"\"\n",
    "\n",
    "print(cadena_de_texto)\n",
    "print(type(cadena_de_texto))"
   ]
  },
  {
   "cell_type": "code",
   "execution_count": 1,
   "id": "e5461879",
   "metadata": {},
   "outputs": [
    {
     "name": "stdout",
     "output_type": "stream",
     "text": [
      "Truty\n",
      "Falsy\n",
      "Falsy\n",
      "Truty\n",
      "Truty\n",
      "Falsy\n",
      "Falsy\n",
      "Truty\n",
      "Falsy\n",
      "Truty\n",
      "Falsy\n",
      "Truty\n",
      "Falsy\n",
      "Truty\n",
      "Falsy\n",
      "Truty\n"
     ]
    }
   ],
   "source": [
    "# Trutys y Falsys\n",
    "\n",
    "if('Yo'): #Truty\n",
    "    print('Truty')\n",
    "else:\n",
    "    print('Falsy')\n",
    "    \n",
    "if(''): #Falsy\n",
    "    print('Truty')\n",
    "else:\n",
    "    print('Falsy')\n",
    "    \n",
    "if(\"\"): #Falsy\n",
    "    print('Truty')\n",
    "else:\n",
    "    print('Falsy')\n",
    "    \n",
    "if(1): #Truty\n",
    "    print('Truty')\n",
    "else:\n",
    "    print('Falsy')\n",
    "    \n",
    "if(-1): #Truty\n",
    "    print('Truty')\n",
    "else:\n",
    "    print('Falsy')\n",
    "    \n",
    "if(0): #Falsy\n",
    "    print('Truty')\n",
    "else:\n",
    "    print('Falsy')\n",
    "    \n",
    "if(None): #Falsy\n",
    "    print('Truty')\n",
    "else:\n",
    "    print('Falsy')\n",
    "    \n",
    "if(float('nan')): #Truty\n",
    "    print('Truty')\n",
    "else:\n",
    "    print('Falsy')\n",
    "    \n",
    "if(()): #Falsy\n",
    "    print('Truty')\n",
    "else:\n",
    "    print('Falsy')\n",
    "    \n",
    "if((1,2)): #Truty\n",
    "    print('Truty')\n",
    "else:\n",
    "    print('Falsy')\n",
    "    \n",
    "if([]): #Falsy\n",
    "    print('Truty')\n",
    "else:\n",
    "    print('Falsy')\n",
    "    \n",
    "if([1,2]): #Truty\n",
    "    print('Truty')\n",
    "else:\n",
    "    print('Falsy')\n",
    "    \n",
    "if({}): #Falsy\n",
    "    print('Truty')\n",
    "else:\n",
    "    print('Falsy')\n",
    "    \n",
    "if({\"hola\" :\"chao\"}): #Truty\n",
    "    print('Truty')\n",
    "else:\n",
    "    print('Falsy')\n",
    "    \n",
    "if(0.0): #Falsy\n",
    "    print('Truty')\n",
    "else:\n",
    "    print('Falsy')\n",
    "    \n",
    "if(0.1): #Truty\n",
    "    print('Truty')\n",
    "else:\n",
    "    print('Falsy')"
   ]
  },
  {
   "cell_type": "code",
   "execution_count": 59,
   "id": "88ec39d2",
   "metadata": {},
   "outputs": [],
   "source": [
    "arr = [1, 2, 3, 4, 5, 6, 7, 8, 9, 10]\n",
    "tup = (1, 2, 3, 4, 5, 6, 7, 8, 9, 10)\n",
    "dic = {'n':'Yo', 'e':20}"
   ]
  },
  {
   "cell_type": "code",
   "execution_count": 18,
   "id": "208ef0c4",
   "metadata": {},
   "outputs": [
    {
     "data": {
      "text/plain": [
       "[1, 2, 3, 4, 5, 6, 7, 8, 9, 10]"
      ]
     },
     "execution_count": 18,
     "metadata": {},
     "output_type": "execute_result"
    }
   ],
   "source": [
    "arr[0:3]\n",
    "arr[5:]\n",
    "arr[:5]\n",
    "arr[-10] #de atrás para delante\n",
    "arr[3:-2]\n",
    "arr[-8:8]\n",
    "arr[-4:-1]\n",
    "arr[-7:]\n",
    "arr[:-3]\n",
    "arr[:]"
   ]
  },
  {
   "cell_type": "code",
   "execution_count": 20,
   "id": "ce3e1252",
   "metadata": {},
   "outputs": [
    {
     "data": {
      "text/plain": [
       "(1, 2, 3, 4, 5, 6, 7, 8, 9, 10)"
      ]
     },
     "execution_count": 20,
     "metadata": {},
     "output_type": "execute_result"
    }
   ],
   "source": [
    "tup[0:3]\n",
    "tup[5:]\n",
    "tup[:5]\n",
    "tup[-10] #de atrás para delante\n",
    "tup[3:-2]\n",
    "tup[-8:8]\n",
    "tup[-4:-1]\n",
    "tup[-7:]\n",
    "tup[:-3]\n",
    "tup[:]"
   ]
  },
  {
   "cell_type": "code",
   "execution_count": 24,
   "id": "a7ed6262",
   "metadata": {},
   "outputs": [
    {
     "data": {
      "text/plain": [
       "'Yo'"
      ]
     },
     "execution_count": 24,
     "metadata": {},
     "output_type": "execute_result"
    }
   ],
   "source": [
    "dic['n']"
   ]
  },
  {
   "cell_type": "code",
   "execution_count": 25,
   "id": "dc8e018a",
   "metadata": {},
   "outputs": [
    {
     "data": {
      "text/plain": [
       "True"
      ]
     },
     "execution_count": 25,
     "metadata": {},
     "output_type": "execute_result"
    }
   ],
   "source": [
    "8 in arr"
   ]
  },
  {
   "cell_type": "code",
   "execution_count": 26,
   "id": "eff98693",
   "metadata": {},
   "outputs": [
    {
     "data": {
      "text/plain": [
       "False"
      ]
     },
     "execution_count": 26,
     "metadata": {},
     "output_type": "execute_result"
    }
   ],
   "source": [
    "12 in arr"
   ]
  },
  {
   "cell_type": "code",
   "execution_count": 28,
   "id": "bc6a38e9",
   "metadata": {},
   "outputs": [
    {
     "data": {
      "text/plain": [
       "False"
      ]
     },
     "execution_count": 28,
     "metadata": {},
     "output_type": "execute_result"
    }
   ],
   "source": [
    "'4' in arr"
   ]
  },
  {
   "cell_type": "code",
   "execution_count": 30,
   "id": "4b8fce8b",
   "metadata": {},
   "outputs": [
    {
     "data": {
      "text/plain": [
       "True"
      ]
     },
     "execution_count": 30,
     "metadata": {},
     "output_type": "execute_result"
    }
   ],
   "source": [
    "5.0 in tup"
   ]
  },
  {
   "cell_type": "code",
   "execution_count": 31,
   "id": "cac89f99",
   "metadata": {},
   "outputs": [
    {
     "data": {
      "text/plain": [
       "10"
      ]
     },
     "execution_count": 31,
     "metadata": {},
     "output_type": "execute_result"
    }
   ],
   "source": [
    "len(tup)"
   ]
  },
  {
   "cell_type": "code",
   "execution_count": 32,
   "id": "b15cb0c9",
   "metadata": {},
   "outputs": [
    {
     "data": {
      "text/plain": [
       "2"
      ]
     },
     "execution_count": 32,
     "metadata": {},
     "output_type": "execute_result"
    }
   ],
   "source": [
    "len(dic)"
   ]
  },
  {
   "cell_type": "code",
   "execution_count": 38,
   "id": "d95a15ae",
   "metadata": {},
   "outputs": [
    {
     "data": {
      "text/plain": [
       "True"
      ]
     },
     "execution_count": 38,
     "metadata": {},
     "output_type": "execute_result"
    }
   ],
   "source": [
    "'n' in dic #En diccionarios solo funciona con las llaves \"keys\", NO los valores (siempre dan false)"
   ]
  },
  {
   "cell_type": "code",
   "execution_count": 41,
   "id": "12b9d611",
   "metadata": {},
   "outputs": [],
   "source": [
    "arr[6] = 0 "
   ]
  },
  {
   "cell_type": "code",
   "execution_count": 45,
   "id": "bf5538a3",
   "metadata": {},
   "outputs": [
    {
     "data": {
      "text/plain": [
       "[1, 2, 3, 4, 5, 6, 0, 8, 9, 10]"
      ]
     },
     "execution_count": 45,
     "metadata": {},
     "output_type": "execute_result"
    }
   ],
   "source": [
    "arr"
   ]
  },
  {
   "cell_type": "code",
   "execution_count": 58,
   "id": "d0611a88",
   "metadata": {},
   "outputs": [
    {
     "data": {
      "text/plain": [
       "[1, 2, 9, 3, 4, 5, 6]"
      ]
     },
     "execution_count": 58,
     "metadata": {},
     "output_type": "execute_result"
    }
   ],
   "source": [
    "# arr.pop\n",
    "# arr.append\n",
    "# arr.insert"
   ]
  },
  {
   "cell_type": "code",
   "execution_count": 60,
   "id": "8b1c2258",
   "metadata": {},
   "outputs": [
    {
     "data": {
      "text/plain": [
       "[1, 2, 3, 4, 5, 6, 7, 8, 9, 10]"
      ]
     },
     "execution_count": 60,
     "metadata": {},
     "output_type": "execute_result"
    }
   ],
   "source": [
    "arr"
   ]
  },
  {
   "cell_type": "code",
   "execution_count": 61,
   "id": "fcb5be38",
   "metadata": {},
   "outputs": [
    {
     "name": "stdout",
     "output_type": "stream",
     "text": [
      "1\n",
      "2\n",
      "3\n",
      "4\n",
      "5\n",
      "6\n",
      "7\n",
      "8\n",
      "9\n",
      "10\n"
     ]
    }
   ],
   "source": [
    "for num in arr:\n",
    "    print(num)"
   ]
  },
  {
   "cell_type": "code",
   "execution_count": 63,
   "id": "58f74ec8",
   "metadata": {},
   "outputs": [
    {
     "name": "stdout",
     "output_type": "stream",
     "text": [
      "n\n",
      "e\n"
     ]
    }
   ],
   "source": [
    "for key in dic:\n",
    "    print(key)"
   ]
  },
  {
   "cell_type": "code",
   "execution_count": 66,
   "id": "3d52ac87",
   "metadata": {},
   "outputs": [
    {
     "ename": "KeyboardInterrupt",
     "evalue": "",
     "output_type": "error",
     "traceback": [
      "\u001b[1;31m---------------------------------------------------------------------------\u001b[0m",
      "\u001b[1;31mKeyboardInterrupt\u001b[0m                         Traceback (most recent call last)",
      "\u001b[1;32m~\\AppData\\Local\\Temp\\ipykernel_27240\\2930157465.py\u001b[0m in \u001b[0;36m<module>\u001b[1;34m\u001b[0m\n\u001b[0;32m      2\u001b[0m \u001b[1;32mwhile\u001b[0m \u001b[0mc\u001b[0m \u001b[1;33m<\u001b[0m \u001b[1;36m5\u001b[0m\u001b[1;33m:\u001b[0m\u001b[1;33m\u001b[0m\u001b[1;33m\u001b[0m\u001b[0m\n\u001b[0;32m      3\u001b[0m \u001b[1;31m#     print(c)\u001b[0m\u001b[1;33m\u001b[0m\u001b[1;33m\u001b[0m\u001b[0m\n\u001b[1;32m----> 4\u001b[1;33m     \u001b[0mc\u001b[0m\u001b[1;33m-=\u001b[0m\u001b[1;36m1\u001b[0m\u001b[1;33m\u001b[0m\u001b[1;33m\u001b[0m\u001b[0m\n\u001b[0m",
      "\u001b[1;31mKeyboardInterrupt\u001b[0m: "
     ]
    }
   ],
   "source": [
    "c = 0\n",
    "while c < 5:\n",
    "#     print(c)\n",
    "    c-=1"
   ]
  },
  {
   "cell_type": "code",
   "execution_count": 71,
   "id": "f7e4a5fb",
   "metadata": {},
   "outputs": [],
   "source": [
    "yo = {\n",
    "    'nombre':'Fabio',\n",
    "    'edad': 20,\n",
    "    'mascotas':[{'nombre':'Rex', 'edad':12}]\n",
    "}"
   ]
  },
  {
   "cell_type": "code",
   "execution_count": 80,
   "id": "f907095a",
   "metadata": {},
   "outputs": [
    {
     "data": {
      "text/plain": [
       "11"
      ]
     },
     "execution_count": 80,
     "metadata": {},
     "output_type": "execute_result"
    }
   ],
   "source": [
    "yo['mascotas'][0]['edad'] = 11"
   ]
  },
  {
   "cell_type": "code",
   "execution_count": 82,
   "id": "455c6519",
   "metadata": {},
   "outputs": [
    {
     "data": {
      "text/plain": [
       "dict_keys(['nombre', 'edad', 'mascotas'])"
      ]
     },
     "execution_count": 82,
     "metadata": {},
     "output_type": "execute_result"
    }
   ],
   "source": [
    "yo.keys()"
   ]
  },
  {
   "cell_type": "code",
   "execution_count": 83,
   "id": "f5b610fc",
   "metadata": {},
   "outputs": [
    {
     "data": {
      "text/plain": [
       "dict_values(['Fabio', 20, [{'nombre': 'Rex', 'edad': 11}]])"
      ]
     },
     "execution_count": 83,
     "metadata": {},
     "output_type": "execute_result"
    }
   ],
   "source": [
    "yo.values()"
   ]
  },
  {
   "cell_type": "code",
   "execution_count": 85,
   "id": "afb22b3d",
   "metadata": {},
   "outputs": [
    {
     "name": "stdout",
     "output_type": "stream",
     "text": [
      "nombre\n",
      "edad\n",
      "mascotas\n"
     ]
    }
   ],
   "source": [
    "for keys in yo.keys():\n",
    "    print (keys) "
   ]
  },
  {
   "cell_type": "code",
   "execution_count": 88,
   "id": "dc53cd3c",
   "metadata": {},
   "outputs": [
    {
     "name": "stdout",
     "output_type": "stream",
     "text": [
      "Fabio\n",
      "20\n",
      "[{'nombre': 'Rex', 'edad': 11}]\n"
     ]
    }
   ],
   "source": [
    "for val in yo.values():\n",
    "    print (val) "
   ]
  },
  {
   "cell_type": "code",
   "execution_count": 93,
   "id": "2888100d",
   "metadata": {},
   "outputs": [
    {
     "data": {
      "text/plain": [
       "True"
      ]
     },
     "execution_count": 93,
     "metadata": {},
     "output_type": "execute_result"
    }
   ],
   "source": [
    "1 == 2 or 2 == 2\n",
    "1 == 1 and 2 == 2"
   ]
  },
  {
   "cell_type": "markdown",
   "id": "167a5b2a",
   "metadata": {},
   "source": [
    "## Errors"
   ]
  },
  {
   "cell_type": "code",
   "execution_count": 100,
   "id": "76c25916",
   "metadata": {},
   "outputs": [
    {
     "ename": "KeyError",
     "evalue": "'c'",
     "output_type": "error",
     "traceback": [
      "\u001b[1;31m---------------------------------------------------------------------------\u001b[0m",
      "\u001b[1;31mKeyError\u001b[0m                                  Traceback (most recent call last)",
      "\u001b[1;32m~\\AppData\\Local\\Temp\\ipykernel_27240\\1365683663.py\u001b[0m in \u001b[0;36m<module>\u001b[1;34m\u001b[0m\n\u001b[0;32m      3\u001b[0m \u001b[1;31m# 0/0 ZeroDivisionError\u001b[0m\u001b[1;33m\u001b[0m\u001b[1;33m\u001b[0m\u001b[0m\n\u001b[0;32m      4\u001b[0m \u001b[0ma\u001b[0m \u001b[1;33m=\u001b[0m \u001b[1;33m{\u001b[0m\u001b[1;34m'b'\u001b[0m\u001b[1;33m:\u001b[0m\u001b[1;34m'b'\u001b[0m\u001b[1;33m}\u001b[0m\u001b[1;33m\u001b[0m\u001b[1;33m\u001b[0m\u001b[0m\n\u001b[1;32m----> 5\u001b[1;33m \u001b[0ma\u001b[0m\u001b[1;33m[\u001b[0m\u001b[1;34m'c'\u001b[0m\u001b[1;33m]\u001b[0m\u001b[1;33m\u001b[0m\u001b[1;33m\u001b[0m\u001b[0m\n\u001b[0m",
      "\u001b[1;31mKeyError\u001b[0m: 'c'"
     ]
    }
   ],
   "source": [
    "# salkdnsld NameError\n",
    "# kjdsfb dsfnjkd SyntaxError\n",
    "# 0/0 ZeroDivisionError\n",
    "# a = {'b':'b'}\n",
    "# a['c'] KeyError"
   ]
  },
  {
   "cell_type": "code",
   "execution_count": 113,
   "id": "d1b7d493",
   "metadata": {},
   "outputs": [
    {
     "name": "stdout",
     "output_type": "stream",
     "text": [
      "Name error, variable no declarada\n"
     ]
    }
   ],
   "source": [
    "try:\n",
    "    lasndlajdn\n",
    "#     0/0\n",
    "#     a = {'b':'b'}\n",
    "#     a['c']\n",
    "except NameError as e:\n",
    "    print('Name error, variable no declarada')\n",
    "except (ZeroDivisionError, KeyError) as error_comun:\n",
    "    print('Error común en python')\n",
    "except Exception as e:\n",
    "    print(e)"
   ]
  },
  {
   "cell_type": "code",
   "execution_count": null,
   "id": "3e518716",
   "metadata": {},
   "outputs": [],
   "source": []
  }
 ],
 "metadata": {
  "kernelspec": {
   "display_name": "Python 3 (ipykernel)",
   "language": "python",
   "name": "python3"
  },
  "language_info": {
   "codemirror_mode": {
    "name": "ipython",
    "version": 3
   },
   "file_extension": ".py",
   "mimetype": "text/x-python",
   "name": "python",
   "nbconvert_exporter": "python",
   "pygments_lexer": "ipython3",
   "version": "3.9.13"
  }
 },
 "nbformat": 4,
 "nbformat_minor": 5
}
