{
 "cells": [
  {
   "cell_type": "code",
   "execution_count": 10,
   "id": "59b4f255",
   "metadata": {},
   "outputs": [
    {
     "data": {
      "text/plain": [
       "5.0"
      ]
     },
     "execution_count": 10,
     "metadata": {},
     "output_type": "execute_result"
    }
   ],
   "source": [
    "def calculadora(num1, num2, operacion = 'suma'):\n",
    "    \n",
    "    def suma():\n",
    "        return num1 + num2\n",
    "    def resta():\n",
    "        return num1 - num2\n",
    "    def multiplicacion():\n",
    "        return num1 * num2\n",
    "    def division():\n",
    "        return num1 / num2\n",
    "    \n",
    "    def operacion_seleccionada():\n",
    "        operaciones = {\n",
    "            'suma':suma,\n",
    "            'resta':resta,\n",
    "            'multiplicacion':multiplicacion,\n",
    "            'division':division\n",
    "        }\n",
    "        return operaciones[operacion]()\n",
    "    \n",
    "    return operacion_seleccionada()\n",
    "\n",
    "calculadora(25, 5, 'division')"
   ]
  },
  {
   "cell_type": "code",
   "execution_count": 12,
   "id": "52fe9dfe",
   "metadata": {},
   "outputs": [
    {
     "name": "stdout",
     "output_type": "stream",
     "text": [
      "Como te llamasfabio\n",
      "fabio\n"
     ]
    }
   ],
   "source": [
    "nombre = input('Como te llamas')\n",
    "print(nombre)"
   ]
  }
 ],
 "metadata": {
  "kernelspec": {
   "display_name": "Python 3 (ipykernel)",
   "language": "python",
   "name": "python3"
  },
  "language_info": {
   "codemirror_mode": {
    "name": "ipython",
    "version": 3
   },
   "file_extension": ".py",
   "mimetype": "text/x-python",
   "name": "python",
   "nbconvert_exporter": "python",
   "pygments_lexer": "ipython3",
   "version": "3.9.13"
  }
 },
 "nbformat": 4,
 "nbformat_minor": 5
}
