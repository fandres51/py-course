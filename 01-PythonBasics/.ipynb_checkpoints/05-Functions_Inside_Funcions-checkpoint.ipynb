{
 "cells": [
  {
   "cell_type": "code",
   "execution_count": 9,
   "id": "dd38e931",
   "metadata": {},
   "outputs": [
    {
     "data": {
      "text/plain": [
       "5.0"
      ]
     },
     "execution_count": 9,
     "metadata": {},
     "output_type": "execute_result"
    }
   ],
   "source": [
    "def calculadora(num1, num2, operacion = 'suma'):\n",
    "    \n",
    "    def suma():\n",
    "        return num1 + num2\n",
    "    def resta():\n",
    "        return num1 - num2\n",
    "    def multiplicacion():\n",
    "        return num1 * num2\n",
    "    def division():\n",
    "        return num1 / num2\n",
    "    \n",
    "    def operacion_seleccionada():\n",
    "        operaciones = {\n",
    "            'suma':suma,\n",
    "            'resta':resta,\n",
    "            'multiplicacion':multiplicacion,\n",
    "            'division':division\n",
    "        }\n",
    "        return operaciones[operacion]()\n",
    "    \n",
    "    return operacion_seleccionada()\n",
    "\n",
    "calculadora(25, 5, 'division')"
   ]
  }
 ],
 "metadata": {
  "kernelspec": {
   "display_name": "Python 3 (ipykernel)",
   "language": "python",
   "name": "python3"
  },
  "language_info": {
   "codemirror_mode": {
    "name": "ipython",
    "version": 3
   },
   "file_extension": ".py",
   "mimetype": "text/x-python",
   "name": "python",
   "nbconvert_exporter": "python",
   "pygments_lexer": "ipython3",
   "version": "3.9.13"
  }
 },
 "nbformat": 4,
 "nbformat_minor": 5
}
