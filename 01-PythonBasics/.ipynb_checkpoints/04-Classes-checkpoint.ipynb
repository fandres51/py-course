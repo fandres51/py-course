{
 "cells": [
  {
   "cell_type": "code",
   "execution_count": 1,
   "id": "ac4635e9",
   "metadata": {},
   "outputs": [],
   "source": [
    "class Nada:\n",
    "    pass #Función creada pero no implementada"
   ]
  },
  {
   "cell_type": "code",
   "execution_count": 3,
   "id": "44b32c0d",
   "metadata": {},
   "outputs": [],
   "source": [
    "una_nada = Nada()"
   ]
  },
  {
   "cell_type": "code",
   "execution_count": 5,
   "id": "9197e82b",
   "metadata": {},
   "outputs": [
    {
     "name": "stdout",
     "output_type": "stream",
     "text": [
      "<__main__.Nada object at 0x0000015C1DCCF400>\n",
      "<class '__main__.Nada'>\n"
     ]
    }
   ],
   "source": [
    "print(una_nada)\n",
    "print(type(una_nada))"
   ]
  },
  {
   "cell_type": "code",
   "execution_count": 47,
   "id": "87d5ca0a",
   "metadata": {},
   "outputs": [],
   "source": [
    "class Auto:\n",
    "    color = None #Publico\n",
    "    __chasis = 0 #Privado\n",
    "    \n",
    "    def __init__(self, color): #Constructor\n",
    "        self.color = color\n",
    "        \n",
    "    def set_chasis(self, chasis): #Métodos públicos\n",
    "        self.__chasis = chasis\n",
    "        return 'El impuesto a pagar es ' + str(self.__calcular_impuesto())\n",
    "        \n",
    "    def __calcular_impuesto(self): #Métodos privados\n",
    "        return self.__chasis * 1.18\n",
    "    \n",
    "    def __str__(self): #to string\n",
    "        return 'Este carro con chasis ' + str(self.__chasis) + ' es de color ' + self.color"
   ]
  },
  {
   "cell_type": "code",
   "execution_count": 50,
   "id": "c29eccd8",
   "metadata": {},
   "outputs": [
    {
     "name": "stdout",
     "output_type": "stream",
     "text": [
      "Este carro con chasis 45 es de color Blanco\n"
     ]
    }
   ],
   "source": [
    "spark = Auto('Blanco')\n",
    "impuesto = spark.set_chasis(45)\n",
    "print(spark)"
   ]
  },
  {
   "cell_type": "code",
   "execution_count": 53,
   "id": "0a8c17ee",
   "metadata": {},
   "outputs": [],
   "source": [
    "#Herencia\n",
    "class BMW(Auto):\n",
    "    def __init__(self, color, chasis):\n",
    "        super().__init__(color)\n",
    "        super().set_chasis(chasis)"
   ]
  },
  {
   "cell_type": "code",
   "execution_count": 54,
   "id": "935ca00c",
   "metadata": {},
   "outputs": [
    {
     "name": "stdout",
     "output_type": "stream",
     "text": [
      "Este carro con chasis 94 es de color negro\n"
     ]
    }
   ],
   "source": [
    "bmw1 = BMW('negro', 94)\n",
    "print(bmw1)"
   ]
  }
 ],
 "metadata": {
  "kernelspec": {
   "display_name": "Python 3 (ipykernel)",
   "language": "python",
   "name": "python3"
  },
  "language_info": {
   "codemirror_mode": {
    "name": "ipython",
    "version": 3
   },
   "file_extension": ".py",
   "mimetype": "text/x-python",
   "name": "python",
   "nbconvert_exporter": "python",
   "pygments_lexer": "ipython3",
   "version": "3.9.13"
  }
 },
 "nbformat": 4,
 "nbformat_minor": 5
}
